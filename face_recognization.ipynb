{
 "cells": [
  {
   "cell_type": "code",
   "execution_count": 1,
   "metadata": {},
   "outputs": [],
   "source": [
    "import cv2"
   ]
  },
  {
   "cell_type": "code",
   "execution_count": 2,
   "metadata": {},
   "outputs": [],
   "source": [
    "import numpy as np\n",
    "import os\n",
    "import math"
   ]
  },
  {
   "cell_type": "code",
   "execution_count": 5,
   "metadata": {},
   "outputs": [
    {
     "name": "stdout",
     "output_type": "stream",
     "text": [
      "Enter the name of person :harsh\n",
      "1\n",
      "2\n",
      "3\n",
      "4\n",
      "5\n",
      "6\n"
     ]
    }
   ],
   "source": [
    "cap=cv2.VideoCapture(0)\n",
    "face_cascade = cv2.CascadeClassifier(\"haarcascade_frontalface_alt.xml\")\n",
    "\n",
    "\n",
    "skip=0\n",
    "face_data = []\n",
    "dataset_path='./data/'\n",
    "\n",
    "file_name=input(\"Enter the name of person :\")\n",
    "\n",
    "while True:\n",
    "    ret,frame=cap.read()\n",
    "    \n",
    "    if ret==False:\n",
    "        continue\n",
    "    \n",
    "    grey_frame=cv2.cvtColor(frame,cv2.COLOR_BGR2GRAY) \n",
    "    \n",
    "    faces = face_cascade.detectMultiScale(frame,1.3,5)\n",
    "    faces = sorted(faces,key=lambda f:f[2]*f[3],reverse=True)\n",
    "    \n",
    "    for face in faces:\n",
    "        x,y,w,h = face\n",
    "        cv2.rectangle(frame,(x,y),(x+w,y+h),(0,255,255),2)\n",
    "        #ectract region of interest\n",
    "        offset =10\n",
    "        face_section =frame[y-offset:y+h+offset,x-offset:x+w+offset]\n",
    "        face_section = cv2.resize(face_section,(100,100))\n",
    "        \n",
    "        skip+=1\n",
    "        if skip%10==0:\n",
    "            face_data.append(face_section)\n",
    "            print(len(face_data))\n",
    "        \n",
    "        \n",
    "        \n",
    "       \n",
    "            \n",
    "        \n",
    "    cv2.imshow(\"Frame\",frame)\n",
    "    cv2.imshow(\"face section\",face_section)\n",
    "    \n",
    "    if cv2.waitKey(30) & 0xFF == ord('q'):\n",
    "            break\n",
    "cap.release()        \n",
    "\n",
    "cv2.destroyAllWindows()        \n",
    "    "
   ]
  },
  {
   "cell_type": "code",
   "execution_count": 6,
   "metadata": {},
   "outputs": [
    {
     "name": "stdout",
     "output_type": "stream",
     "text": [
      "(6, 30000)\n",
      "Data Succesfully save at ./data/harsh.npy\n"
     ]
    }
   ],
   "source": [
    "face_data=np.asarray(face_data)\n",
    "face_data=face_data.reshape((face_data.shape[0],-1))\n",
    "print(face_data.shape)\n",
    "\n",
    "#save data to file system\n",
    "np.save(dataset_path+file_name+'.npy',face_data)\n",
    "print(\"Data Succesfully save at \"+dataset_path+file_name+'.npy')"
   ]
  },
  {
   "cell_type": "code",
   "execution_count": 3,
   "metadata": {},
   "outputs": [],
   "source": [
    "#building face classifier\n",
    "def distance(x1, x2) :\n",
    "    return math.sqrt(np.sum((x1-x2) ** 2))\n",
    "\n",
    "def knn(train, test, k=5):\n",
    "    \n",
    "    dist = []\n",
    "    \n",
    "    for i in range(train.shape[0]):\n",
    "        ix = train[i,:-1]\n",
    "        iy = train[i,-1]\n",
    "        \n",
    "        d=distance(test,ix)\n",
    "        dist.append([d,iy])\n",
    "        \n",
    "    dk = sorted(dist,key=lambda x:x[0])[:k]\n",
    "    labels=np.array(dk)[:,-1]\n",
    "    \n",
    "    output= np.unique(labels,return_counts=True)\n",
    "    index=np.argmax(output[1])\n",
    "    return output[0][index]\n",
    "    \n",
    "\n",
    "\n",
    "\n",
    "\n"
   ]
  },
  {
   "cell_type": "code",
   "execution_count": 4,
   "metadata": {},
   "outputs": [
    {
     "name": "stdout",
     "output_type": "stream",
     "text": [
      "Loaded danish.npy\n",
      "Loaded harsh.npy\n",
      "Loaded priyanka.npy\n",
      "(30, 30000)\n",
      "(30, 1)\n"
     ]
    }
   ],
   "source": [
    "\n",
    "\n",
    "cap=cv2.VideoCapture(0)\n",
    "face_cascade = cv2.CascadeClassifier(\"haarcascade_frontalface_alt.xml\")\n",
    "\n",
    "skip=0\n",
    "face_data2 = []\n",
    "dataset_path='./data/'\n",
    "\n",
    "\n",
    "labels=[]\n",
    "\n",
    "class_id=0  #label for the given file\n",
    "names ={} #mapping btw id - name\n",
    "\n",
    "\n",
    "#data preparation\n",
    "for fx in os.listdir(dataset_path):\n",
    "    if fx.endswith('.npy'):\n",
    "        names[class_id]=fx[:-4]\n",
    "        print(\"Loaded \" + fx)\n",
    "        \n",
    "        data_item = np.load(dataset_path+fx)\n",
    "        face_data2.append(data_item)\n",
    "        \n",
    "        #create labels for the class\n",
    "        target = class_id*np.ones((data_item.shape[0],))\n",
    "        class_id=+1\n",
    "        labels.append(target)\n",
    "        \n",
    "        \n",
    "    \n",
    "face_dataset = np.concatenate(face_data2,axis=0)\n",
    "face_labels=np.concatenate(labels,axis=0).reshape((-1,1))\n",
    "\n",
    "print(face_dataset.shape)\n",
    "print(face_labels.shape)\n",
    "\n",
    "trainset = np.concatenate((face_dataset,face_labels),axis=1)\n",
    "\n",
    "\n",
    "\n",
    "while True:\n",
    "    ret,frame=cap.read()\n",
    "    \n",
    "    if ret==False:\n",
    "        continue\n",
    "    \n",
    "\n",
    "    \n",
    "    faces = face_cascade.detectMultiScale(frame,1.3,5)\n",
    "    \n",
    "    \n",
    "    for face in faces:\n",
    "        x,y,w,h = face\n",
    "        \n",
    "        #ectract region of interest\n",
    "        offset =10\n",
    "        face_section =frame[y-offset:y+h+offset,x-offset:x+w+offset]\n",
    "        face_section = cv2.resize(face_section,(100,100))\n",
    "        \n",
    "        out = knn(trainset,face_section.flatten()) #PREDICT TABLE\n",
    "        \n",
    "        \n",
    "        pred_name = names[int(out)]\n",
    "        cv2.putText(frame,pred_name,(x,y-10),cv2.FONT_HERSHEY_SIMPLEX,1,(255,0,0),2,cv2.LINE_AA)\n",
    "        cv2.rectangle(frame,(x,y),(x+w,y+h),(0,255,255),2)\n",
    "        \n",
    "           \n",
    "        \n",
    "    cv2.imshow(\"Frame\",frame)\n",
    "    \n",
    "    \n",
    "    if cv2.waitKey(30) & 0xFF == ord('q'):\n",
    "            break\n",
    "cap.release()        \n",
    "\n",
    "cv2.destroyAllWindows()   "
   ]
  },
  {
   "cell_type": "code",
   "execution_count": null,
   "metadata": {},
   "outputs": [],
   "source": []
  }
 ],
 "metadata": {
  "kernelspec": {
   "display_name": "Python 3",
   "language": "python",
   "name": "python3"
  },
  "language_info": {
   "codemirror_mode": {
    "name": "ipython",
    "version": 3
   },
   "file_extension": ".py",
   "mimetype": "text/x-python",
   "name": "python",
   "nbconvert_exporter": "python",
   "pygments_lexer": "ipython3",
   "version": "3.7.1"
  }
 },
 "nbformat": 4,
 "nbformat_minor": 2
}
